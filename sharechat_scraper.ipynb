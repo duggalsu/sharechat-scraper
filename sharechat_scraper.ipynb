{
 "cells": [
  {
   "cell_type": "code",
   "execution_count": null,
   "metadata": {},
   "outputs": [],
   "source": [
    "# Import libraries\n",
    "import os\n",
    "from os.path import basename\n",
    "import requests\n",
    "from bs4 import BeautifulSoup \n",
    "import pandas as pd\n",
    "import numpy as np\n",
    "import re\n",
    "from datetime import datetime\n",
    "import tzlocal\n",
    "from IPython.display import Image, HTML\n",
    "\n",
    "# Set timezone\n",
    "local_timezone = tzlocal.get_localzone()"
   ]
  },
  {
   "cell_type": "code",
   "execution_count": null,
   "metadata": {},
   "outputs": [],
   "source": [
    "# Define helper functions\n",
    "\n",
    "# Scrapes data from specified tags\n",
    "def get_data(tags):\n",
    "    # Create empty dataframe to collect scraped data\n",
    "    data = pd.DataFrame(columns = [\"img_link\", \"timestamp\", \"tag\", \"thumbnail\"])\n",
    "    # Scrape data from each tag\n",
    "    for tag in tags: \n",
    "        print(\"Scraping recent images from https://sharechat.com/\"+tag+\" ...\")\n",
    "        soup = get_parsed_page(tag) \n",
    "        img_links, timestamps = get_images_with_timestamps(soup)  \n",
    "        # Save tag data as dataframe\n",
    "        tag_data = pd.DataFrame(np.column_stack([img_links, timestamps]), \n",
    "                            columns = [\"img_link\", \"timestamp\"])\n",
    "        # Add tag column \n",
    "        tag_data[\"tag\"] = tag\n",
    "        # Add thumbnail column\n",
    "        tag_data[\"thumbnail\"] = tag_data[\"img_link\"]   \n",
    "        # Add tag data \n",
    "        data = data.append(tag_data)\n",
    "    return data\n",
    "\n",
    "# Returns parsed web page\n",
    "def get_parsed_page(tag):\n",
    "    r = requests.get(\"https://sharechat.com/\"+tag)\n",
    "    c = r.content\n",
    "    soup = BeautifulSoup(c, \"lxml\") \n",
    "    return soup\n",
    "\n",
    "# Returns images with timestamps\n",
    "def get_images_with_timestamps(soup):\n",
    "    # Initialize empty lists to hold data\n",
    "    img_links = []\n",
    "    timestamps = []\n",
    "    # Find image\n",
    "    images = soup.findAll(\"img\", {\"src\": re.compile(\".jpg\")}) \n",
    "    for image in images:\n",
    "        # Add image link\n",
    "        img_links.append(image[\"src\"]) \n",
    "        # Find timestamp\n",
    "        unix_ts = re.findall(\"\\d{13}\", image[\"src\"]) \n",
    "        if (len(unix_ts) > 0): # If link contains timestamp\n",
    "        # Reformat and save timestamp\n",
    "            local_time = datetime.fromtimestamp(int(\"\".join(unix_ts))/1000, local_timezone).strftime(\"%d:%m:%Y, %H:%M:%S\")\n",
    "            timestamps.append(local_time) \n",
    "        else:\n",
    "            timestamps.append(None)\n",
    "    return img_links, timestamps\n",
    "\n",
    "# Adds image thumbnails for quick viewing\n",
    "def convert_links_to_thumbnails(df):   \n",
    "    def path_to_image_html(path):\n",
    "        return '<img src=\"'+ path + '\"width=\"200\" >' \n",
    "    data_html = HTML(df.to_html(escape=False ,formatters=dict(thumbnail=path_to_image_html))) \n",
    "    return data_html\n",
    "\n",
    "# Saves scraped data in csv and html formats\n",
    "def save_data(df, html):\n",
    "    with open(\"sharechat_data_html.html\", \"w\") as f:\n",
    "        f.write(html.data)\n",
    "    df.drop(\"thumbnail\", axis = 1, inplace = True)\n",
    "    df.to_csv(\"sharechat_data.csv\")"
   ]
  },
  {
   "cell_type": "code",
   "execution_count": null,
   "metadata": {},
   "outputs": [],
   "source": [
    "# Define scraper function\n",
    "def sharechat_scraper(tags, destination):\n",
    "    # Scrape data from specified tags\n",
    "    sharechat_df = get_data(tags)\n",
    "    # Generate html file with image thumbnails\n",
    "    sharechat_data_html = convert_links_to_thumbnails(sharechat_df)\n",
    "    # Save data \n",
    "    save_data(sharechat_df, sharechat_data_html)\n",
    "    print(\"{} images scraped\".format(len(sharechat_df)))\n",
    "    print(\"Data saved to\", destination)"
   ]
  },
  {
   "cell_type": "code",
   "execution_count": null,
   "metadata": {},
   "outputs": [],
   "source": [
    "# Define scraper arguments\n",
    "t = [\"topic/news-hindi-125\", \"topic/whatsapp-hindi-238\", \"trending/Hindi\"] # tags to scrape\n",
    "d = os.getcwd() # download destination"
   ]
  },
  {
   "cell_type": "code",
   "execution_count": null,
   "metadata": {},
   "outputs": [],
   "source": [
    "# Run scraper\n",
    "sharechat_scraper(t, d)"
   ]
  }
 ],
 "metadata": {
  "kernelspec": {
   "display_name": "Python 3",
   "language": "python",
   "name": "python3"
  },
  "language_info": {
   "codemirror_mode": {
    "name": "ipython",
    "version": 3
   },
   "file_extension": ".py",
   "mimetype": "text/x-python",
   "name": "python",
   "nbconvert_exporter": "python",
   "pygments_lexer": "ipython3",
   "version": "3.7.0"
  }
 },
 "nbformat": 4,
 "nbformat_minor": 2
}
